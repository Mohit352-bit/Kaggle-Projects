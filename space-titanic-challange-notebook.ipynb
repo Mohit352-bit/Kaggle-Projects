{
 "cells": [
  {
   "cell_type": "markdown",
   "id": "aa756621",
   "metadata": {
    "papermill": {
     "duration": 0.005781,
     "end_time": "2022-12-22T13:18:11.062693",
     "exception": false,
     "start_time": "2022-12-22T13:18:11.056912",
     "status": "completed"
    },
    "tags": []
   },
   "source": [
    "# A Simple DNN with %80 ACCURACY"
   ]
  },
  {
   "cell_type": "code",
   "execution_count": 1,
   "id": "dabcabcd",
   "metadata": {
    "_cell_guid": "b1076dfc-b9ad-4769-8c92-a6c4dae69d19",
    "_uuid": "8f2839f25d086af736a60e9eeb907d3b93b6e0e5",
    "execution": {
     "iopub.execute_input": "2022-12-22T13:18:11.074213Z",
     "iopub.status.busy": "2022-12-22T13:18:11.073552Z",
     "iopub.status.idle": "2022-12-22T13:18:11.088176Z",
     "shell.execute_reply": "2022-12-22T13:18:11.086486Z"
    },
    "papermill": {
     "duration": 0.022505,
     "end_time": "2022-12-22T13:18:11.090173",
     "exception": false,
     "start_time": "2022-12-22T13:18:11.067668",
     "status": "completed"
    },
    "tags": []
   },
   "outputs": [
    {
     "name": "stdout",
     "output_type": "stream",
     "text": [
      "/kaggle/input/spaceship-titanic/sample_submission.csv\n",
      "/kaggle/input/spaceship-titanic/train.csv\n",
      "/kaggle/input/spaceship-titanic/test.csv\n"
     ]
    }
   ],
   "source": [
    "# This Python 3 environment comes with many helpful analytics libraries installed\n",
    "# It is defined by the kaggle/python Docker image: https://github.com/kaggle/docker-python\n",
    "# For example, here's several helpful packages to load\n",
    "\n",
    "import numpy as np # linear algebra\n",
    "import pandas as pd # data processing, CSV file I/O (e.g. pd.read_csv)\n",
    "\n",
    "# Input data files are available in the read-only \"../input/\" directory\n",
    "# For example, running this (by clicking run or pressing Shift+Enter) will list all files under the input directory\n",
    "\n",
    "import os\n",
    "for dirname, _, filenames in os.walk('/kaggle/input'):\n",
    "    for filename in filenames:\n",
    "        print(os.path.join(dirname, filename))\n",
    "\n",
    "# You can write up to 20GB to the current directory (/kaggle/working/) that gets preserved as output when you create a version using \"Save & Run All\" \n",
    "# You can also write temporary files to /kaggle/temp/, but they won't be saved outside of the current session"
   ]
  },
  {
   "cell_type": "markdown",
   "id": "8dfec575",
   "metadata": {
    "papermill": {
     "duration": 0.004532,
     "end_time": "2022-12-22T13:18:11.099783",
     "exception": false,
     "start_time": "2022-12-22T13:18:11.095251",
     "status": "completed"
    },
    "tags": []
   },
   "source": [
    "## Check Submisssion Format"
   ]
  },
  {
   "cell_type": "code",
   "execution_count": 2,
   "id": "4f02b139",
   "metadata": {
    "execution": {
     "iopub.execute_input": "2022-12-22T13:18:11.111768Z",
     "iopub.status.busy": "2022-12-22T13:18:11.110235Z",
     "iopub.status.idle": "2022-12-22T13:18:11.145681Z",
     "shell.execute_reply": "2022-12-22T13:18:11.144839Z"
    },
    "papermill": {
     "duration": 0.043048,
     "end_time": "2022-12-22T13:18:11.147590",
     "exception": false,
     "start_time": "2022-12-22T13:18:11.104542",
     "status": "completed"
    },
    "tags": []
   },
   "outputs": [
    {
     "name": "stdout",
     "output_type": "stream",
     "text": [
      "  PassengerId  Transported\n",
      "0     0013_01        False\n",
      "1     0018_01        False\n",
      "2     0019_01        False\n",
      "3     0021_01        False\n",
      "4     0023_01        False\n",
      "(4277, 2)\n"
     ]
    }
   ],
   "source": [
    "sample_df = pd.read_csv('/kaggle/input/spaceship-titanic/sample_submission.csv')\n",
    "print(sample_df.head())\n",
    "print(sample_df.shape)"
   ]
  },
  {
   "cell_type": "markdown",
   "id": "d283e346",
   "metadata": {
    "papermill": {
     "duration": 0.004605,
     "end_time": "2022-12-22T13:18:11.157025",
     "exception": false,
     "start_time": "2022-12-22T13:18:11.152420",
     "status": "completed"
    },
    "tags": []
   },
   "source": [
    "## Import Data\n",
    "\n",
    "Also get a quick look what we are dealing by using `head()`."
   ]
  },
  {
   "cell_type": "code",
   "execution_count": 3,
   "id": "d06bf633",
   "metadata": {
    "execution": {
     "iopub.execute_input": "2022-12-22T13:18:11.168369Z",
     "iopub.status.busy": "2022-12-22T13:18:11.167564Z",
     "iopub.status.idle": "2022-12-22T13:18:11.279310Z",
     "shell.execute_reply": "2022-12-22T13:18:11.278145Z"
    },
    "papermill": {
     "duration": 0.120017,
     "end_time": "2022-12-22T13:18:11.281916",
     "exception": false,
     "start_time": "2022-12-22T13:18:11.161899",
     "status": "completed"
    },
    "tags": []
   },
   "outputs": [
    {
     "name": "stdout",
     "output_type": "stream",
     "text": [
      "  PassengerId HomePlanet CryoSleep  Cabin  Destination   Age    VIP  \\\n",
      "0     0001_01     Europa     False  B/0/P  TRAPPIST-1e  39.0  False   \n",
      "1     0002_01      Earth     False  F/0/S  TRAPPIST-1e  24.0  False   \n",
      "2     0003_01     Europa     False  A/0/S  TRAPPIST-1e  58.0   True   \n",
      "3     0003_02     Europa     False  A/0/S  TRAPPIST-1e  33.0  False   \n",
      "4     0004_01      Earth     False  F/1/S  TRAPPIST-1e  16.0  False   \n",
      "\n",
      "   RoomService  FoodCourt  ShoppingMall     Spa  VRDeck               Name  \\\n",
      "0          0.0        0.0           0.0     0.0     0.0    Maham Ofracculy   \n",
      "1        109.0        9.0          25.0   549.0    44.0       Juanna Vines   \n",
      "2         43.0     3576.0           0.0  6715.0    49.0      Altark Susent   \n",
      "3          0.0     1283.0         371.0  3329.0   193.0       Solam Susent   \n",
      "4        303.0       70.0         151.0   565.0     2.0  Willy Santantines   \n",
      "\n",
      "   Transported     LastName  \n",
      "0        False    Ofracculy  \n",
      "1         True        Vines  \n",
      "2        False       Susent  \n",
      "3        False       Susent  \n",
      "4         True  Santantines  \n",
      "  PassengerId HomePlanet CryoSleep  Cabin  Destination   Age    VIP  \\\n",
      "0     0013_01      Earth      True  G/3/S  TRAPPIST-1e  27.0  False   \n",
      "1     0018_01      Earth     False  F/4/S  TRAPPIST-1e  19.0  False   \n",
      "2     0019_01     Europa      True  C/0/S  55 Cancri e  31.0  False   \n",
      "3     0021_01     Europa     False  C/1/S  TRAPPIST-1e  38.0  False   \n",
      "4     0023_01      Earth     False  F/5/S  TRAPPIST-1e  20.0  False   \n",
      "\n",
      "   RoomService  FoodCourt  ShoppingMall     Spa  VRDeck              Name  \\\n",
      "0          0.0        0.0           0.0     0.0     0.0   Nelly Carsoning   \n",
      "1          0.0        9.0           0.0  2823.0     0.0    Lerome Peckers   \n",
      "2          0.0        0.0           0.0     0.0     0.0   Sabih Unhearfus   \n",
      "3          0.0     6652.0           0.0   181.0   585.0  Meratz Caltilter   \n",
      "4         10.0        0.0         635.0     0.0     0.0   Brence Harperez   \n",
      "\n",
      "    LastName  \n",
      "0  Carsoning  \n",
      "1    Peckers  \n",
      "2  Unhearfus  \n",
      "3  Caltilter  \n",
      "4   Harperez  \n"
     ]
    }
   ],
   "source": [
    "train_df = pd.read_csv('/kaggle/input/spaceship-titanic/train.csv')\n",
    "test_df = pd.read_csv('/kaggle/input/spaceship-titanic/test.csv')\n",
    "\n",
    "names = train_df[\"Name\"].str.split(\" \", n = 1, expand = True)\n",
    "train_df[\"LastName\"] = names[1]\n",
    "\n",
    "names = test_df[\"Name\"].str.split(\" \", n = 1, expand = True)\n",
    "test_df[\"LastName\"] = names[1]\n",
    "\n",
    "print(train_df.head())\n",
    "print(test_df.head())"
   ]
  },
  {
   "cell_type": "markdown",
   "id": "4df079da",
   "metadata": {
    "papermill": {
     "duration": 0.004918,
     "end_time": "2022-12-22T13:18:11.291946",
     "exception": false,
     "start_time": "2022-12-22T13:18:11.287028",
     "status": "completed"
    },
    "tags": []
   },
   "source": [
    "## Create a Simple One-Hot Encoder\n",
    "It is best to have one-hot encoding before feed into our model. It also helps get rid of `nan` values by writing 0 to all categories."
   ]
  },
  {
   "cell_type": "code",
   "execution_count": 4,
   "id": "d29aaf0b",
   "metadata": {
    "execution": {
     "iopub.execute_input": "2022-12-22T13:18:11.303489Z",
     "iopub.status.busy": "2022-12-22T13:18:11.303220Z",
     "iopub.status.idle": "2022-12-22T13:18:11.310214Z",
     "shell.execute_reply": "2022-12-22T13:18:11.309230Z"
    },
    "papermill": {
     "duration": 0.014864,
     "end_time": "2022-12-22T13:18:11.312473",
     "exception": false,
     "start_time": "2022-12-22T13:18:11.297609",
     "status": "completed"
    },
    "tags": []
   },
   "outputs": [],
   "source": [
    "def myOneHotEncoder(df,df_columns,verbose=False):\n",
    "    for column in df_columns:\n",
    "        labels = df[column].unique()\n",
    "        labels = [x for x in labels if str(x) != 'nan']\n",
    "        print(labels)\n",
    "        for label in labels:\n",
    "            df[label] = df[column].apply(lambda x : 1.0 if x ==label else 0.0)\n",
    "    if verbose:\n",
    "        print(df.head())\n",
    "\n",
    "def myLabeledOneHotEncoder(df,df_columns, labels, verbose=False):\n",
    "    for column in df_columns:\n",
    "        labels = [x for x in labels if str(x) != 'nan']\n",
    "        print(labels)\n",
    "        for label in labels:\n",
    "            df[label] = df[column].apply(lambda x : 1.0 if x ==label else 0.0)\n",
    "    if verbose:\n",
    "        print(df.head())"
   ]
  },
  {
   "cell_type": "markdown",
   "id": "9faaf41a",
   "metadata": {
    "papermill": {
     "duration": 0.004683,
     "end_time": "2022-12-22T13:18:11.322038",
     "exception": false,
     "start_time": "2022-12-22T13:18:11.317355",
     "status": "completed"
    },
    "tags": []
   },
   "source": [
    "## Create a Method for Filling Nan Values\n",
    "It is for filling numeric values. It fills nan values with either the `mean` or the `median` value."
   ]
  },
  {
   "cell_type": "code",
   "execution_count": 5,
   "id": "ae18d03f",
   "metadata": {
    "execution": {
     "iopub.execute_input": "2022-12-22T13:18:11.332748Z",
     "iopub.status.busy": "2022-12-22T13:18:11.332492Z",
     "iopub.status.idle": "2022-12-22T13:18:11.338171Z",
     "shell.execute_reply": "2022-12-22T13:18:11.337241Z"
    },
    "papermill": {
     "duration": 0.013225,
     "end_time": "2022-12-22T13:18:11.340098",
     "exception": false,
     "start_time": "2022-12-22T13:18:11.326873",
     "status": "completed"
    },
    "tags": []
   },
   "outputs": [],
   "source": [
    "def fillNaValues(df,column,fillType):\n",
    "    if fillType==\"median\":\n",
    "        averageAge = df[column].median()\n",
    "    elif fillType==\"mean\":\n",
    "        averageAge = df[column].mean()\n",
    "    else:\n",
    "        averageAge = df[column].median()\n",
    "    print(fillType +\" is \"+str(averageAge))\n",
    "    df[column] = df[column].fillna(averageAge)\n",
    "    if df[column].isna().sum()==0:\n",
    "        print(\"Succesfully Filled!\")"
   ]
  },
  {
   "cell_type": "markdown",
   "id": "35832fdd",
   "metadata": {
    "papermill": {
     "duration": 0.004665,
     "end_time": "2022-12-22T13:18:11.349626",
     "exception": false,
     "start_time": "2022-12-22T13:18:11.344961",
     "status": "completed"
    },
    "tags": []
   },
   "source": [
    "## Create Method for All Preprocessings\n",
    "It is good to create a method because we will do all preprocessing to test data as well."
   ]
  },
  {
   "cell_type": "code",
   "execution_count": 6,
   "id": "043af43b",
   "metadata": {
    "execution": {
     "iopub.execute_input": "2022-12-22T13:18:11.360976Z",
     "iopub.status.busy": "2022-12-22T13:18:11.360122Z",
     "iopub.status.idle": "2022-12-22T13:18:11.371174Z",
     "shell.execute_reply": "2022-12-22T13:18:11.370381Z"
    },
    "papermill": {
     "duration": 0.018587,
     "end_time": "2022-12-22T13:18:11.373008",
     "exception": false,
     "start_time": "2022-12-22T13:18:11.354421",
     "status": "completed"
    },
    "tags": []
   },
   "outputs": [],
   "source": [
    "def PreprocessData(my_df,dropList, do_shuffle=False):\n",
    "    df = my_df.copy()\n",
    "    # Fill na values of true falses and turn them in to floats\n",
    "    df[\"CryoSleep\"] = df[\"CryoSleep\"].fillna(0.5)\n",
    "    df[\"CryoSleep\"] = df[\"CryoSleep\"].astype(float)\n",
    "\n",
    "    df[\"VIP\"] = df[\"VIP\"].fillna(0.5)\n",
    "    df[\"VIP\"] = df[\"VIP\"].astype(float)\n",
    "    \n",
    "    if \"Transported\" in df.columns:\n",
    "        df[\"Transported\"] = df[\"Transported\"].astype('float32')\n",
    "    \n",
    "    fillNaValues(df,\"RoomService\",\"mean\")\n",
    "    fillNaValues(df,\"FoodCourt\",\"mean\")\n",
    "    fillNaValues(df,\"ShoppingMall\",\"mean\")\n",
    "    fillNaValues(df,\"Spa\",\"mean\")\n",
    "    fillNaValues(df,\"VRDeck\",\"mean\")\n",
    "    fillNaValues(df,\"Age\",\"mean\")\n",
    "    \n",
    "    # Split Cabin information and deal with nans\n",
    "    df[\"Deck\"] = df[\"Cabin\"].str.split(\"/\").str[0]\n",
    "    df[\"Num\"] = df[\"Cabin\"].str.split(\"/\").str[1]\n",
    "    df[\"Side\"] = df[\"Cabin\"].str.split(\"/\").str[2]\n",
    "\n",
    "    df[\"Num\"].replace(np.nan, 0,inplace=True)\n",
    "    df[\"Num\"] = df[\"Num\"].astype(int)\n",
    "    df[\"Num\"].replace(0, np.nan,inplace=True)\n",
    "    \n",
    "    fillNaValues(df,\"Num\",\"mean\")\n",
    "    \n",
    "    myOneHotEncoder(df,[\"HomePlanet\",\"Destination\",\"Deck\",\"Side\"])\n",
    "    df['TotalSpent'] = df['RoomService'] + df['FoodCourt'] + df['ShoppingMall'] + df['Spa'] + df['VRDeck']\n",
    "    \n",
    "    ## Name\n",
    "    ##myLabeledOneHotEncoder(df,['LastName'],train_df[\"LastName\"].unique(),False)\n",
    "    ## Name End\n",
    "    \n",
    "    if do_shuffle:\n",
    "        df = df.sample(frac = 1)\n",
    "    \n",
    "    dropped_df = pd.DataFrame()\n",
    "    dropped_df[dropList] = df[dropList]\n",
    "    df = df.drop(columns = dropList)\n",
    "    df = df.drop(columns = ['LastName'])\n",
    "    df = df.astype('float32')\n",
    "    \n",
    "    df.head()\n",
    "    return df, dropped_df"
   ]
  },
  {
   "cell_type": "code",
   "execution_count": 7,
   "id": "9c0001ce",
   "metadata": {
    "execution": {
     "iopub.execute_input": "2022-12-22T13:18:11.385359Z",
     "iopub.status.busy": "2022-12-22T13:18:11.384223Z",
     "iopub.status.idle": "2022-12-22T13:18:11.404972Z",
     "shell.execute_reply": "2022-12-22T13:18:11.404025Z"
    },
    "papermill": {
     "duration": 0.028335,
     "end_time": "2022-12-22T13:18:11.406963",
     "exception": false,
     "start_time": "2022-12-22T13:18:11.378628",
     "status": "completed"
    },
    "tags": []
   },
   "outputs": [
    {
     "data": {
      "text/plain": [
       "(2218,)"
      ]
     },
     "execution_count": 7,
     "metadata": {},
     "output_type": "execute_result"
    }
   ],
   "source": [
    "new = train_df[\"Name\"].str.split(\" \", n = 1, expand = True)\n",
    "#train_df[\"FirstName\"] = new[0]\n",
    "train_df[\"LastName\"] = new[1]\n",
    "train_df[\"LastName\"].unique().shape"
   ]
  },
  {
   "cell_type": "markdown",
   "id": "3f1598cd",
   "metadata": {
    "papermill": {
     "duration": 0.004764,
     "end_time": "2022-12-22T13:18:11.416598",
     "exception": false,
     "start_time": "2022-12-22T13:18:11.411834",
     "status": "completed"
    },
    "tags": []
   },
   "source": [
    "- Preprocess all data\n",
    "- Put test and train data into same column order"
   ]
  },
  {
   "cell_type": "code",
   "execution_count": 8,
   "id": "2f7495e5",
   "metadata": {
    "execution": {
     "iopub.execute_input": "2022-12-22T13:18:11.427637Z",
     "iopub.status.busy": "2022-12-22T13:18:11.427391Z",
     "iopub.status.idle": "2022-12-22T13:18:11.695288Z",
     "shell.execute_reply": "2022-12-22T13:18:11.694231Z"
    },
    "papermill": {
     "duration": 0.275851,
     "end_time": "2022-12-22T13:18:11.697353",
     "exception": false,
     "start_time": "2022-12-22T13:18:11.421502",
     "status": "completed"
    },
    "tags": []
   },
   "outputs": [
    {
     "name": "stdout",
     "output_type": "stream",
     "text": [
      "mean is 224.687617481203\n",
      "Succesfully Filled!\n",
      "mean is 458.07720329024676\n",
      "Succesfully Filled!\n",
      "mean is 173.72916912197996\n",
      "Succesfully Filled!\n",
      "mean is 311.1387779083431\n",
      "Succesfully Filled!\n",
      "mean is 304.8547912992357\n",
      "Succesfully Filled!\n",
      "mean is 28.82793046746535\n",
      "Succesfully Filled!\n",
      "mean is 601.6426380368098\n",
      "Succesfully Filled!\n",
      "['Europa', 'Earth', 'Mars']\n",
      "['TRAPPIST-1e', 'PSO J318.5-22', '55 Cancri e']\n",
      "['B', 'F', 'A', 'G', 'E', 'D', 'C', 'T']\n",
      "['P', 'S']\n",
      "mean is 219.26626936829558\n",
      "Succesfully Filled!\n",
      "mean is 439.4842963318149\n",
      "Succesfully Filled!\n",
      "mean is 177.29552524527398\n",
      "Succesfully Filled!\n",
      "mean is 303.05244252873564\n",
      "Succesfully Filled!\n",
      "mean is 310.71003097450557\n",
      "Succesfully Filled!\n",
      "mean is 28.65814620162446\n",
      "Succesfully Filled!\n",
      "mean is 611.2031175059952\n",
      "Succesfully Filled!\n",
      "['Earth', 'Europa', 'Mars']\n",
      "['TRAPPIST-1e', '55 Cancri e', 'PSO J318.5-22']\n",
      "['G', 'F', 'C', 'B', 'D', 'E', 'A', 'T']\n",
      "['S', 'P']\n",
      "CryoSleep CryoSleep\n",
      "Age Age\n",
      "VIP VIP\n",
      "RoomService RoomService\n",
      "FoodCourt FoodCourt\n",
      "ShoppingMall ShoppingMall\n",
      "Spa Spa\n",
      "VRDeck VRDeck\n",
      "Num Num\n",
      "Europa Europa\n",
      "Earth Earth\n",
      "Mars Mars\n",
      "TRAPPIST-1e TRAPPIST-1e\n",
      "PSO J318.5-22 PSO J318.5-22\n",
      "55 Cancri e 55 Cancri e\n",
      "B B\n",
      "F F\n",
      "A A\n",
      "G G\n",
      "E E\n",
      "D D\n",
      "C C\n",
      "T T\n",
      "P P\n",
      "S S\n",
      "TotalSpent TotalSpent\n",
      "<class 'pandas.core.frame.DataFrame'>\n",
      "Int64Index: 8693 entries, 758 to 6970\n",
      "Data columns (total 26 columns):\n",
      " #   Column         Non-Null Count  Dtype  \n",
      "---  ------         --------------  -----  \n",
      " 0   CryoSleep      8693 non-null   float32\n",
      " 1   Age            8693 non-null   float32\n",
      " 2   VIP            8693 non-null   float32\n",
      " 3   RoomService    8693 non-null   float32\n",
      " 4   FoodCourt      8693 non-null   float32\n",
      " 5   ShoppingMall   8693 non-null   float32\n",
      " 6   Spa            8693 non-null   float32\n",
      " 7   VRDeck         8693 non-null   float32\n",
      " 8   Num            8693 non-null   float32\n",
      " 9   Europa         8693 non-null   float32\n",
      " 10  Earth          8693 non-null   float32\n",
      " 11  Mars           8693 non-null   float32\n",
      " 12  TRAPPIST-1e    8693 non-null   float32\n",
      " 13  PSO J318.5-22  8693 non-null   float32\n",
      " 14  55 Cancri e    8693 non-null   float32\n",
      " 15  B              8693 non-null   float32\n",
      " 16  F              8693 non-null   float32\n",
      " 17  A              8693 non-null   float32\n",
      " 18  G              8693 non-null   float32\n",
      " 19  E              8693 non-null   float32\n",
      " 20  D              8693 non-null   float32\n",
      " 21  C              8693 non-null   float32\n",
      " 22  T              8693 non-null   float32\n",
      " 23  P              8693 non-null   float32\n",
      " 24  S              8693 non-null   float32\n",
      " 25  TotalSpent     8693 non-null   float32\n",
      "dtypes: float32(26)\n",
      "memory usage: 950.8 KB\n",
      "None\n"
     ]
    }
   ],
   "source": [
    "train_x, dropped_df = PreprocessData(train_df,[\"Name\",\"PassengerId\",\"HomePlanet\",\"Destination\",\"Deck\",\"Side\",\"Transported\",\"Cabin\"],True)\n",
    "test_x, _ = PreprocessData(test_df,[\"Name\",\"PassengerId\",\"HomePlanet\",\"Destination\",\"Deck\",\"Side\",\"Cabin\"])\n",
    "\n",
    "train_y = dropped_df[\"Transported\"]\n",
    "\n",
    "# Same Column Order\n",
    "cols = list(train_x.columns.values)\n",
    "test_x = test_x[cols]\n",
    "for i in range(len(cols)):\n",
    "    print(cols[i],test_x.columns.values[i])\n",
    "\n",
    "# Check Data\n",
    "print(train_x.info())\n",
    "#train_x.head()\n",
    "#dropped_df.head()"
   ]
  },
  {
   "cell_type": "markdown",
   "id": "500c6c27",
   "metadata": {
    "papermill": {
     "duration": 0.005351,
     "end_time": "2022-12-22T13:18:11.708479",
     "exception": false,
     "start_time": "2022-12-22T13:18:11.703128",
     "status": "completed"
    },
    "tags": []
   },
   "source": [
    "## Define Custom Normalization Method\n",
    "Normalization is important before feeding data into our machine"
   ]
  },
  {
   "cell_type": "code",
   "execution_count": 9,
   "id": "b3f0e0c6",
   "metadata": {
    "execution": {
     "iopub.execute_input": "2022-12-22T13:18:11.720822Z",
     "iopub.status.busy": "2022-12-22T13:18:11.719981Z",
     "iopub.status.idle": "2022-12-22T13:18:11.726347Z",
     "shell.execute_reply": "2022-12-22T13:18:11.725504Z"
    },
    "papermill": {
     "duration": 0.014479,
     "end_time": "2022-12-22T13:18:11.728140",
     "exception": false,
     "start_time": "2022-12-22T13:18:11.713661",
     "status": "completed"
    },
    "tags": []
   },
   "outputs": [],
   "source": [
    "def normalize(df,minVals,maxVals):\n",
    "    result = df.copy()\n",
    "    for feature_name in df.columns:\n",
    "        max_value = maxVals[feature_name]\n",
    "        min_value = minVals[feature_name]\n",
    "        result[feature_name] = (df[feature_name] - min_value) / (max_value - min_value)\n",
    "    return result"
   ]
  },
  {
   "cell_type": "code",
   "execution_count": 10,
   "id": "cdcab387",
   "metadata": {
    "execution": {
     "iopub.execute_input": "2022-12-22T13:18:11.741342Z",
     "iopub.status.busy": "2022-12-22T13:18:11.739750Z",
     "iopub.status.idle": "2022-12-22T13:18:11.790037Z",
     "shell.execute_reply": "2022-12-22T13:18:11.789046Z"
    },
    "papermill": {
     "duration": 0.058537,
     "end_time": "2022-12-22T13:18:11.792094",
     "exception": false,
     "start_time": "2022-12-22T13:18:11.733557",
     "status": "completed"
    },
    "tags": []
   },
   "outputs": [
    {
     "data": {
      "text/html": [
       "<div>\n",
       "<style scoped>\n",
       "    .dataframe tbody tr th:only-of-type {\n",
       "        vertical-align: middle;\n",
       "    }\n",
       "\n",
       "    .dataframe tbody tr th {\n",
       "        vertical-align: top;\n",
       "    }\n",
       "\n",
       "    .dataframe thead th {\n",
       "        text-align: right;\n",
       "    }\n",
       "</style>\n",
       "<table border=\"1\" class=\"dataframe\">\n",
       "  <thead>\n",
       "    <tr style=\"text-align: right;\">\n",
       "      <th></th>\n",
       "      <th>CryoSleep</th>\n",
       "      <th>Age</th>\n",
       "      <th>VIP</th>\n",
       "      <th>RoomService</th>\n",
       "      <th>FoodCourt</th>\n",
       "      <th>ShoppingMall</th>\n",
       "      <th>Spa</th>\n",
       "      <th>VRDeck</th>\n",
       "      <th>Num</th>\n",
       "      <th>Europa</th>\n",
       "      <th>...</th>\n",
       "      <th>F</th>\n",
       "      <th>A</th>\n",
       "      <th>G</th>\n",
       "      <th>E</th>\n",
       "      <th>D</th>\n",
       "      <th>C</th>\n",
       "      <th>T</th>\n",
       "      <th>P</th>\n",
       "      <th>S</th>\n",
       "      <th>TotalSpent</th>\n",
       "    </tr>\n",
       "  </thead>\n",
       "  <tbody>\n",
       "    <tr>\n",
       "      <th>0</th>\n",
       "      <td>1.0</td>\n",
       "      <td>0.341772</td>\n",
       "      <td>0.0</td>\n",
       "      <td>0.000000</td>\n",
       "      <td>0.000000</td>\n",
       "      <td>0.00000</td>\n",
       "      <td>0.000000</td>\n",
       "      <td>0.000000</td>\n",
       "      <td>0.001057</td>\n",
       "      <td>0.0</td>\n",
       "      <td>...</td>\n",
       "      <td>0.0</td>\n",
       "      <td>0.0</td>\n",
       "      <td>1.0</td>\n",
       "      <td>0.0</td>\n",
       "      <td>0.0</td>\n",
       "      <td>0.0</td>\n",
       "      <td>0.0</td>\n",
       "      <td>0.0</td>\n",
       "      <td>1.0</td>\n",
       "      <td>0.000000</td>\n",
       "    </tr>\n",
       "    <tr>\n",
       "      <th>1</th>\n",
       "      <td>0.0</td>\n",
       "      <td>0.240506</td>\n",
       "      <td>0.0</td>\n",
       "      <td>0.000000</td>\n",
       "      <td>0.000302</td>\n",
       "      <td>0.00000</td>\n",
       "      <td>0.125982</td>\n",
       "      <td>0.000000</td>\n",
       "      <td>0.001585</td>\n",
       "      <td>0.0</td>\n",
       "      <td>...</td>\n",
       "      <td>1.0</td>\n",
       "      <td>0.0</td>\n",
       "      <td>0.0</td>\n",
       "      <td>0.0</td>\n",
       "      <td>0.0</td>\n",
       "      <td>0.0</td>\n",
       "      <td>0.0</td>\n",
       "      <td>0.0</td>\n",
       "      <td>1.0</td>\n",
       "      <td>0.078695</td>\n",
       "    </tr>\n",
       "    <tr>\n",
       "      <th>2</th>\n",
       "      <td>1.0</td>\n",
       "      <td>0.392405</td>\n",
       "      <td>0.0</td>\n",
       "      <td>0.000000</td>\n",
       "      <td>0.000000</td>\n",
       "      <td>0.00000</td>\n",
       "      <td>0.000000</td>\n",
       "      <td>0.000000</td>\n",
       "      <td>0.322347</td>\n",
       "      <td>1.0</td>\n",
       "      <td>...</td>\n",
       "      <td>0.0</td>\n",
       "      <td>0.0</td>\n",
       "      <td>0.0</td>\n",
       "      <td>0.0</td>\n",
       "      <td>0.0</td>\n",
       "      <td>1.0</td>\n",
       "      <td>0.0</td>\n",
       "      <td>0.0</td>\n",
       "      <td>1.0</td>\n",
       "      <td>0.000000</td>\n",
       "    </tr>\n",
       "    <tr>\n",
       "      <th>3</th>\n",
       "      <td>0.0</td>\n",
       "      <td>0.481013</td>\n",
       "      <td>0.0</td>\n",
       "      <td>0.000000</td>\n",
       "      <td>0.223124</td>\n",
       "      <td>0.00000</td>\n",
       "      <td>0.008077</td>\n",
       "      <td>0.024241</td>\n",
       "      <td>0.000000</td>\n",
       "      <td>1.0</td>\n",
       "      <td>...</td>\n",
       "      <td>0.0</td>\n",
       "      <td>0.0</td>\n",
       "      <td>0.0</td>\n",
       "      <td>0.0</td>\n",
       "      <td>0.0</td>\n",
       "      <td>1.0</td>\n",
       "      <td>0.0</td>\n",
       "      <td>0.0</td>\n",
       "      <td>1.0</td>\n",
       "      <td>0.206130</td>\n",
       "    </tr>\n",
       "    <tr>\n",
       "      <th>4</th>\n",
       "      <td>0.0</td>\n",
       "      <td>0.253165</td>\n",
       "      <td>0.0</td>\n",
       "      <td>0.000698</td>\n",
       "      <td>0.000000</td>\n",
       "      <td>0.02703</td>\n",
       "      <td>0.000000</td>\n",
       "      <td>0.000000</td>\n",
       "      <td>0.002113</td>\n",
       "      <td>0.0</td>\n",
       "      <td>...</td>\n",
       "      <td>1.0</td>\n",
       "      <td>0.0</td>\n",
       "      <td>0.0</td>\n",
       "      <td>0.0</td>\n",
       "      <td>0.0</td>\n",
       "      <td>0.0</td>\n",
       "      <td>0.0</td>\n",
       "      <td>0.0</td>\n",
       "      <td>1.0</td>\n",
       "      <td>0.017923</td>\n",
       "    </tr>\n",
       "  </tbody>\n",
       "</table>\n",
       "<p>5 rows × 26 columns</p>\n",
       "</div>"
      ],
      "text/plain": [
       "   CryoSleep       Age  VIP  RoomService  FoodCourt  ShoppingMall       Spa  \\\n",
       "0        1.0  0.341772  0.0     0.000000   0.000000       0.00000  0.000000   \n",
       "1        0.0  0.240506  0.0     0.000000   0.000302       0.00000  0.125982   \n",
       "2        1.0  0.392405  0.0     0.000000   0.000000       0.00000  0.000000   \n",
       "3        0.0  0.481013  0.0     0.000000   0.223124       0.00000  0.008077   \n",
       "4        0.0  0.253165  0.0     0.000698   0.000000       0.02703  0.000000   \n",
       "\n",
       "     VRDeck       Num  Europa  ...    F    A    G    E    D    C    T    P  \\\n",
       "0  0.000000  0.001057     0.0  ...  0.0  0.0  1.0  0.0  0.0  0.0  0.0  0.0   \n",
       "1  0.000000  0.001585     0.0  ...  1.0  0.0  0.0  0.0  0.0  0.0  0.0  0.0   \n",
       "2  0.000000  0.322347     1.0  ...  0.0  0.0  0.0  0.0  0.0  1.0  0.0  0.0   \n",
       "3  0.024241  0.000000     1.0  ...  0.0  0.0  0.0  0.0  0.0  1.0  0.0  0.0   \n",
       "4  0.000000  0.002113     0.0  ...  1.0  0.0  0.0  0.0  0.0  0.0  0.0  0.0   \n",
       "\n",
       "     S  TotalSpent  \n",
       "0  1.0    0.000000  \n",
       "1  1.0    0.078695  \n",
       "2  1.0    0.000000  \n",
       "3  1.0    0.206130  \n",
       "4  1.0    0.017923  \n",
       "\n",
       "[5 rows x 26 columns]"
      ]
     },
     "execution_count": 10,
     "metadata": {},
     "output_type": "execute_result"
    }
   ],
   "source": [
    "train_x_normalized = normalize(train_x,train_x.min(),train_x.max())\n",
    "test_x_normalized = normalize(test_x,train_x.min(),train_x.max())\n",
    "test_x_normalized.head()"
   ]
  },
  {
   "cell_type": "markdown",
   "id": "244c13de",
   "metadata": {
    "papermill": {
     "duration": 0.005439,
     "end_time": "2022-12-22T13:18:11.803332",
     "exception": false,
     "start_time": "2022-12-22T13:18:11.797893",
     "status": "completed"
    },
    "tags": []
   },
   "source": [
    "## Create a Method for Spliting Data into Train and Validation\n",
    "Validation is a must to test neural network performance and see if there is overfitting"
   ]
  },
  {
   "cell_type": "code",
   "execution_count": 11,
   "id": "1e9d0d70",
   "metadata": {
    "execution": {
     "iopub.execute_input": "2022-12-22T13:18:11.815616Z",
     "iopub.status.busy": "2022-12-22T13:18:11.815318Z",
     "iopub.status.idle": "2022-12-22T13:18:11.820590Z",
     "shell.execute_reply": "2022-12-22T13:18:11.819597Z"
    },
    "papermill": {
     "duration": 0.013712,
     "end_time": "2022-12-22T13:18:11.822563",
     "exception": false,
     "start_time": "2022-12-22T13:18:11.808851",
     "status": "completed"
    },
    "tags": []
   },
   "outputs": [],
   "source": [
    "def SplitData(df_x,df_y,split_ratio):\n",
    "    split_size = int(df_x.shape[0] * split_ratio)\n",
    "    train_x = df_x.iloc[:split_size]\n",
    "    val_x = df_x.iloc[split_size:]\n",
    "    \n",
    "    train_y = df_y.iloc[:split_size]\n",
    "    val_y = df_y.iloc[split_size:]\n",
    "    \n",
    "    return train_x, train_y, val_x, val_y"
   ]
  },
  {
   "cell_type": "markdown",
   "id": "53b519b7",
   "metadata": {
    "papermill": {
     "duration": 0.005472,
     "end_time": "2022-12-22T13:18:11.833572",
     "exception": false,
     "start_time": "2022-12-22T13:18:11.828100",
     "status": "completed"
    },
    "tags": []
   },
   "source": [
    "## Model\n",
    "\n",
    "Create Model\n",
    "-  Use [`L2 Regularization`](https://www.tensorflow.org/api_docs/python/tf/keras/regularizers/L2) and `Dropout layers` to overcome overfitting\n",
    "- Define [`Adam`](https://keras.io/api/optimizers/adam/) Optimizer, it will be a good choice for our binary classification. Also [`RMSprop`](https://keras.io/api/optimizers/rmsprop/) and [`SGD`](https://keras.io/api/optimizers/sgd/) can be a good option too.\n",
    "- Train the network and  give **epoch number** the largest value where the accuracy rate of the validation and training sets are in the same direction (increasing).\n",
    "- Select the batch size due to zig-zags in the training accuracy and loss graphs. If the much zig-zag you should increase `BATCH_SIZE`"
   ]
  },
  {
   "cell_type": "code",
   "execution_count": 12,
   "id": "3ac36cd2",
   "metadata": {
    "execution": {
     "iopub.execute_input": "2022-12-22T13:18:11.846610Z",
     "iopub.status.busy": "2022-12-22T13:18:11.845807Z",
     "iopub.status.idle": "2022-12-22T13:18:38.407550Z",
     "shell.execute_reply": "2022-12-22T13:18:38.406301Z"
    },
    "papermill": {
     "duration": 26.571054,
     "end_time": "2022-12-22T13:18:38.410078",
     "exception": false,
     "start_time": "2022-12-22T13:18:11.839024",
     "status": "completed"
    },
    "tags": []
   },
   "outputs": [
    {
     "name": "stderr",
     "output_type": "stream",
     "text": [
      "2022-12-22 13:18:21.244753: I tensorflow/stream_executor/cuda/cuda_gpu_executor.cc:937] successful NUMA node read from SysFS had negative value (-1), but there must be at least one NUMA node, so returning NUMA node zero\n",
      "2022-12-22 13:18:21.245655: I tensorflow/stream_executor/cuda/cuda_gpu_executor.cc:937] successful NUMA node read from SysFS had negative value (-1), but there must be at least one NUMA node, so returning NUMA node zero\n",
      "2022-12-22 13:18:21.562139: I tensorflow/stream_executor/cuda/cuda_gpu_executor.cc:937] successful NUMA node read from SysFS had negative value (-1), but there must be at least one NUMA node, so returning NUMA node zero\n",
      "2022-12-22 13:18:21.562991: I tensorflow/stream_executor/cuda/cuda_gpu_executor.cc:937] successful NUMA node read from SysFS had negative value (-1), but there must be at least one NUMA node, so returning NUMA node zero\n",
      "2022-12-22 13:18:21.563743: I tensorflow/stream_executor/cuda/cuda_gpu_executor.cc:937] successful NUMA node read from SysFS had negative value (-1), but there must be at least one NUMA node, so returning NUMA node zero\n",
      "2022-12-22 13:18:21.564491: I tensorflow/stream_executor/cuda/cuda_gpu_executor.cc:937] successful NUMA node read from SysFS had negative value (-1), but there must be at least one NUMA node, so returning NUMA node zero\n",
      "2022-12-22 13:18:21.567300: I tensorflow/core/platform/cpu_feature_guard.cc:142] This TensorFlow binary is optimized with oneAPI Deep Neural Network Library (oneDNN) to use the following CPU instructions in performance-critical operations:  AVX2 AVX512F FMA\n",
      "To enable them in other operations, rebuild TensorFlow with the appropriate compiler flags.\n",
      "2022-12-22 13:18:21.811459: I tensorflow/stream_executor/cuda/cuda_gpu_executor.cc:937] successful NUMA node read from SysFS had negative value (-1), but there must be at least one NUMA node, so returning NUMA node zero\n",
      "2022-12-22 13:18:21.812267: I tensorflow/stream_executor/cuda/cuda_gpu_executor.cc:937] successful NUMA node read from SysFS had negative value (-1), but there must be at least one NUMA node, so returning NUMA node zero\n",
      "2022-12-22 13:18:21.813024: I tensorflow/stream_executor/cuda/cuda_gpu_executor.cc:937] successful NUMA node read from SysFS had negative value (-1), but there must be at least one NUMA node, so returning NUMA node zero\n",
      "2022-12-22 13:18:21.813724: I tensorflow/stream_executor/cuda/cuda_gpu_executor.cc:937] successful NUMA node read from SysFS had negative value (-1), but there must be at least one NUMA node, so returning NUMA node zero\n",
      "2022-12-22 13:18:21.814395: I tensorflow/stream_executor/cuda/cuda_gpu_executor.cc:937] successful NUMA node read from SysFS had negative value (-1), but there must be at least one NUMA node, so returning NUMA node zero\n",
      "2022-12-22 13:18:21.815076: I tensorflow/stream_executor/cuda/cuda_gpu_executor.cc:937] successful NUMA node read from SysFS had negative value (-1), but there must be at least one NUMA node, so returning NUMA node zero\n",
      "2022-12-22 13:18:26.110538: I tensorflow/stream_executor/cuda/cuda_gpu_executor.cc:937] successful NUMA node read from SysFS had negative value (-1), but there must be at least one NUMA node, so returning NUMA node zero\n",
      "2022-12-22 13:18:26.111547: I tensorflow/stream_executor/cuda/cuda_gpu_executor.cc:937] successful NUMA node read from SysFS had negative value (-1), but there must be at least one NUMA node, so returning NUMA node zero\n",
      "2022-12-22 13:18:26.112275: I tensorflow/stream_executor/cuda/cuda_gpu_executor.cc:937] successful NUMA node read from SysFS had negative value (-1), but there must be at least one NUMA node, so returning NUMA node zero\n",
      "2022-12-22 13:18:26.112961: I tensorflow/stream_executor/cuda/cuda_gpu_executor.cc:937] successful NUMA node read from SysFS had negative value (-1), but there must be at least one NUMA node, so returning NUMA node zero\n",
      "2022-12-22 13:18:26.113652: I tensorflow/stream_executor/cuda/cuda_gpu_executor.cc:937] successful NUMA node read from SysFS had negative value (-1), but there must be at least one NUMA node, so returning NUMA node zero\n",
      "2022-12-22 13:18:26.114311: I tensorflow/core/common_runtime/gpu/gpu_device.cc:1510] Created device /job:localhost/replica:0/task:0/device:GPU:0 with 13789 MB memory:  -> device: 0, name: Tesla T4, pci bus id: 0000:00:04.0, compute capability: 7.5\n",
      "2022-12-22 13:18:26.119248: I tensorflow/stream_executor/cuda/cuda_gpu_executor.cc:937] successful NUMA node read from SysFS had negative value (-1), but there must be at least one NUMA node, so returning NUMA node zero\n",
      "2022-12-22 13:18:26.119921: I tensorflow/core/common_runtime/gpu/gpu_device.cc:1510] Created device /job:localhost/replica:0/task:0/device:GPU:1 with 13789 MB memory:  -> device: 1, name: Tesla T4, pci bus id: 0000:00:05.0, compute capability: 7.5\n",
      "2022-12-22 13:18:27.728967: I tensorflow/compiler/mlir/mlir_graph_optimization_pass.cc:185] None of the MLIR Optimization Passes are enabled (registered 2)\n"
     ]
    },
    {
     "name": "stdout",
     "output_type": "stream",
     "text": [
      "0.8323267102241516\n",
      "0.8073605298995972\n"
     ]
    }
   ],
   "source": [
    "import tensorflow as tf\n",
    "\n",
    "SHUFFLE_BUFFER = 500\n",
    "BATCH_SIZE = 1000\n",
    "SPLIT_SIZE = 0.8\n",
    "t_x, t_y, v_x, v_y = SplitData(train_x_normalized,train_y,SPLIT_SIZE)\n",
    "\n",
    "tf.convert_to_tensor(t_x)\n",
    "tf.convert_to_tensor(v_x)\n",
    "\n",
    "normalizer = tf.keras.layers.Normalization(axis=-1)\n",
    "normalizer.adapt(t_x)\n",
    "\n",
    "model = tf.keras.Sequential([\n",
    "    normalizer,\n",
    "    tf.keras.layers.Dense(2048, activation='relu',kernel_regularizer=tf.keras.regularizers.l2(0.001)),\n",
    "    #tf.keras.layers.BatchNormalization(),\n",
    "    tf.keras.layers.Dropout(0.5),\n",
    "    tf.keras.layers.Dense(1024, activation='relu',kernel_regularizer=tf.keras.regularizers.l2(0.001)),\n",
    "    #tf.keras.layers.BatchNormalization(),\n",
    "    tf.keras.layers.Dropout(0.4),\n",
    "    tf.keras.layers.Dense(1, activation = 'sigmoid')\n",
    "  ])\n",
    "\n",
    "model.compile(optimizer='adam',\n",
    "                loss=tf.keras.losses.BinaryCrossentropy(from_logits=False),\n",
    "                metrics=['accuracy'])\n",
    "\n",
    "history = model.fit(t_x, t_y, epochs=120, batch_size=BATCH_SIZE,validation_data=(v_x,v_y), verbose=0)\n",
    "\n",
    "print(history.history['accuracy'][-1])\n",
    "print(history.history['val_accuracy'][-1])"
   ]
  },
  {
   "cell_type": "markdown",
   "id": "d25cf87d",
   "metadata": {
    "papermill": {
     "duration": 0.006135,
     "end_time": "2022-12-22T13:18:38.423735",
     "exception": false,
     "start_time": "2022-12-22T13:18:38.417600",
     "status": "completed"
    },
    "tags": []
   },
   "source": [
    "## Plot History\n",
    "\n",
    "We need to analyze train and validation accuracy/loss to see the real performance of the network. We are expecting train and validation accuracies to be close to each other for non-overfitting. Also, we are expecting at least %75 accuracy to have meaningful results"
   ]
  },
  {
   "cell_type": "code",
   "execution_count": 13,
   "id": "e3e2c635",
   "metadata": {
    "execution": {
     "iopub.execute_input": "2022-12-22T13:18:38.439310Z",
     "iopub.status.busy": "2022-12-22T13:18:38.438885Z",
     "iopub.status.idle": "2022-12-22T13:18:39.043655Z",
     "shell.execute_reply": "2022-12-22T13:18:39.042799Z"
    },
    "papermill": {
     "duration": 0.614966,
     "end_time": "2022-12-22T13:18:39.045861",
     "exception": false,
     "start_time": "2022-12-22T13:18:38.430895",
     "status": "completed"
    },
    "tags": []
   },
   "outputs": [
    {
     "data": {
      "image/png": "[encoded data removed]",
      "text/plain": [
       "<Figure size 432x288 with 1 Axes>"
      ]
     },
     "metadata": {
      "needs_background": "light"
     },
     "output_type": "display_data"
    },
    {
     "data": {
      "image/png": "[encoded data removed]",
      "text/plain": [
       "<Figure size 432x288 with 1 Axes>"
      ]
     },
     "metadata": {
      "needs_background": "light"
     },
     "output_type": "display_data"
    }
   ],
   "source": [
    "import matplotlib.pyplot as plt\n",
    "\n",
    "acc = history.history['accuracy']\n",
    "val_acc = history.history['val_accuracy']\n",
    "loss = history.history['loss']\n",
    "val_loss = history.history['val_loss']\n",
    "\n",
    "epochs = range(1, len(acc) + 1)\n",
    "\n",
    "plt.plot(epochs, acc, 'bo', label='Training acc')\n",
    "plt.plot(epochs, val_acc, 'b', label='Validation acc')\n",
    "plt.title('Training and validation accuracy')\n",
    "plt.legend()\n",
    "\n",
    "plt.figure()\n",
    "\n",
    "plt.plot(epochs, loss, 'bo', label='Training loss')\n",
    "plt.plot(epochs, val_loss, 'b', label='Validation loss')\n",
    "plt.title('Training and validation loss')\n",
    "plt.legend()\n",
    "\n",
    "plt.show()"
   ]
  },
  {
   "cell_type": "markdown",
   "id": "a9ff0bdc",
   "metadata": {
    "papermill": {
     "duration": 0.006107,
     "end_time": "2022-12-22T13:18:39.058957",
     "exception": false,
     "start_time": "2022-12-22T13:18:39.052850",
     "status": "completed"
    },
    "tags": []
   },
   "source": [
    "## Export Data"
   ]
  },
  {
   "cell_type": "code",
   "execution_count": 14,
   "id": "0a9f86bb",
   "metadata": {
    "execution": {
     "iopub.execute_input": "2022-12-22T13:18:39.072706Z",
     "iopub.status.busy": "2022-12-22T13:18:39.072360Z",
     "iopub.status.idle": "2022-12-22T13:18:39.316513Z",
     "shell.execute_reply": "2022-12-22T13:18:39.315338Z"
    },
    "papermill": {
     "duration": 0.253884,
     "end_time": "2022-12-22T13:18:39.319111",
     "exception": false,
     "start_time": "2022-12-22T13:18:39.065227",
     "status": "completed"
    },
    "tags": []
   },
   "outputs": [
    {
     "name": "stdout",
     "output_type": "stream",
     "text": [
      "[[0.48586708]\n",
      " [0.00679703]\n",
      " [0.9985442 ]\n",
      " [0.99961686]\n",
      " [0.32636315]]\n",
      "  PassengerId  Transported\n",
      "0     0013_01        False\n",
      "1     0018_01        False\n",
      "2     0019_01         True\n",
      "3     0021_01         True\n",
      "4     0023_01        False\n"
     ]
    }
   ],
   "source": [
    "test_tensor = test_x_normalized.copy()\n",
    "tf.convert_to_tensor(test_tensor)\n",
    "result = model.predict(test_tensor)\n",
    "print(result[:5])\n",
    "# Create submission dataframe\n",
    "submission_df = pd.DataFrame()\n",
    "submission_df['PassengerId'] = sample_df['PassengerId']\n",
    "submission_df['Transported'] = result\n",
    "submission_df['Transported'] = submission_df['Transported'].apply(lambda x: True if x>=0.5 else False)\n",
    "print(submission_df.head())\n",
    "\n",
    "submission_df.to_csv('submission.csv',index=False)"
   ]
  }
 ],
 "metadata": {
  "kernelspec": {
   "display_name": "Python 3 (ipykernel)",
   "language": "python",
   "name": "python3"
  },
  "language_info": {
   "codemirror_mode": {
    "name": "ipython",
    "version": 3
   },
   "file_extension": ".py",
   "mimetype": "text/x-python",
   "name": "python",
   "nbconvert_exporter": "python",
   "pygments_lexer": "ipython3",
   "version": "3.7.15"
  },
  "papermill": {
   "default_parameters": {},
   "duration": 42.101878,
   "end_time": "2022-12-22T13:18:42.256231",
   "environment_variables": {},
   "exception": null,
   "input_path": "__notebook__.ipynb",
   "output_path": "__notebook__.ipynb",
   "parameters": {},
   "start_time": "2022-12-22T13:18:00.154353",
   "version": "2.3.4"
  }
 },
 "nbformat": 4,
 "nbformat_minor": 5
}
